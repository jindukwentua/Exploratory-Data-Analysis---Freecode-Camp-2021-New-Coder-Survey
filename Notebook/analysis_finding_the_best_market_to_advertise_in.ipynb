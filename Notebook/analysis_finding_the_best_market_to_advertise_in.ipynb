{
 "cells": [
  {
   "cell_type": "markdown",
   "metadata": {},
   "source": [
    "# Analysis - Finding the Best Markets to Advertise In"
   ]
  },
  {
   "cell_type": "markdown",
   "metadata": {},
   "source": [
    "## Background"
   ]
  },
  {
   "cell_type": "markdown",
   "metadata": {},
   "source": [
    "I work for a fictitious e-learning company that offers different courses on programming including web and mobile development, data science and game development. \n",
    "\n",
    "Web and mobile development courses make up a good percentage of the courses we offer."
   ]
  },
  {
   "cell_type": "markdown",
   "metadata": {},
   "source": [
    "## Objective"
   ]
  },
  {
   "cell_type": "markdown",
   "metadata": {},
   "source": [
    "The marketing team wants to promote our product and has approached me to help them find out the two best markets that they can advertise our product in.\n",
    "\n",
    "My objective in this project is to find these two markets so that the campaign can be sent out as soon as possible."
   ]
  },
  {
   "cell_type": "markdown",
   "metadata": {},
   "source": [
    "## Understanding the Data"
   ]
  },
  {
   "cell_type": "markdown",
   "metadata": {},
   "source": [
    "One way I can achieve the aim of this project is to organize surveys for different markets and then select the best markets. But doing this will be quite expensive.\n",
    "\n",
    "A suitable alternative will be to look for existing data that might be useful to my project objective. One good example  is the [freeCodeCamp 2017 New Coder Survey data](https://medium.freecodecamp.org/we-asked-20-000-people-who-they-are-and-how-theyre-learning-to-code-fff5d668969). \n",
    "\n",
    "[freeCodeCamp](https://www.freecodecamp.org/) is a completely free e-learning site that offers a variety of courses on web development.\n",
    "\n",
    "The reason that their data is suitable for my project is that they curently run a popular Medium publication that currently has 600,000+ followers. More so, the 2017 survey attracted new coders who have different interests.\n",
    "\n",
    "You can check out the [survey data here](https://github.com/freeCodeCamp/2021-new-coder-survey)."
   ]
  },
  {
   "cell_type": "markdown",
   "metadata": {},
   "source": [
    "## Exploratory Data Analysis"
   ]
  },
  {
   "cell_type": "code",
   "execution_count": null,
   "metadata": {},
   "outputs": [],
   "source": [
    "#importing the dataset\n",
    "import pandas as pd\n",
    "survey_data = pd.read_csv('../data/2021 New Coder Survey.csv', low_memory = 0)#low_memory prevents dtype warning\n",
    "survey_data.shape\n"
   ]
  },
  {
   "cell_type": "code",
   "execution_count": null,
   "metadata": {},
   "outputs": [],
   "source": []
  }
 ],
 "metadata": {
  "interpreter": {
   "hash": "b3ba2566441a7c06988d0923437866b63cedc61552a5af99d1f4fb67d367b25f"
  },
  "kernelspec": {
   "display_name": "Python 3.8.8 ('base')",
   "language": "python",
   "name": "python3"
  },
  "language_info": {
   "name": "python",
   "version": "3.8.8"
  },
  "orig_nbformat": 4
 },
 "nbformat": 4,
 "nbformat_minor": 2
}
